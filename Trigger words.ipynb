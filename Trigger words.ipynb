{
 "cells": [
  {
   "cell_type": "markdown",
   "metadata": {},
   "source": [
    "**Creation Date:**\n",
    "\n",
    "**February 13, 2021**\n",
    "\n",
    "**created for Treehacks**"
   ]
  },
  {
   "cell_type": "markdown",
   "metadata": {},
   "source": [
    "**Resources for Trigger Warning**\n",
    "\n",
    "- https://adancewithbooks.wordpress.com/2019/09/22/a-small-list-of-trigger-warnings-you-can-use/\n",
    "\n",
    "- http://www.laurenhannah.net/book-trigger-list/\n",
    "\n",
    "- https://docs.google.com/spreadsheets/d/1PHlA7QglPpKRbOVEKc_0BCjRmZ8PWPLr3t_wMnggsAg/edit#gid=1855537145\n",
    "\n",
    "- https://www.lookslikefilm.com/2019/01/27/how-to-write-a-trigger-warning/"
   ]
  },
  {
   "cell_type": "code",
   "execution_count": 122,
   "metadata": {},
   "outputs": [],
   "source": [
    "trigger_words= [\"Sexual Assault\",\n",
    "\"Sexual\", \n",
    "\"Assault\"\n",
    "\"Abuse\",\n",
    "\"Child Abuse\",\n",
    "\"Child\"                \n",
    "\"Animal cruelty or Animal Death\",\n",
    "\"Self-harm\",\n",
    "\"Suicide\",\n",
    "\"Eating disorders\",\n",
    "\"Body Dysmorphia\",\n",
    "\"Violence\",\n",
    "\"Kidnapping\",\n",
    "\"Abduction\",\n",
    "\"Death\",\n",
    "\"Rape\",\n",
    "\"Murder\",\n",
    "\"Lynching\",\n",
    "\"Harassment\",\n",
    "\"Miscarriage\", \n",
    "\"Blood\",\n",
    "\"Ableism\",\n",
    "\"Racism\",\n",
    "\"Racial Slurs\",\n",
    "\"Sexism\",\n",
    "\"Misogyny\",\n",
    "\"Classism\",\n",
    "\"Hateful language directed at religious groups (e.g., Islamophobia, Antisemitism)\",\n",
    "\"Casteism\",\n",
    "\"Transphobia\",\n",
    "\"Trans Misogyny\",\n",
    "\"Homophobia\",\n",
    "\"Queerphobia\",\n",
    "\"Police Brutality\",\n",
    "\"islamophobia\",\n",
    "\"antisemitism\",\n",
    "\"Racism\" ,\"Racial\" ,\" Racial Slavery\",\"Superior Race\",\n",
    "\"Police\",\"Brutality\",\"Microagressions\",\"Colorism\",\n",
    "\"Prejudice\" ,\"Genocide\" ,\"Islamphobia\",\n",
    "\"Antisemitism Witch\" ,\"Prosecution\", \"Concentration Camps\",\n",
    "\"Acephobia\",\"Homophobia\",\"Biphobia\"\n",
    "\"Transphobia\",\"Bi-Erasure\",\"Internalized Acephobia\",\"Homophobia\",\n",
    "\"Transphobia\",\n",
    "\"Triggering talk regarding pronouns\",\"Deathnaming Character\",\"Misgendering\",\n",
    "\"Forced Outing of Character\",\"Curing of Disabilities\",\"Lifechanging injury\",\n",
    "\"Ableism\",\"Ableistic language\",\"Detailed Medical Talk Seizures\",\"Paralyzed\",\n",
    "\"Animal Death\",\"Graphic Deaths\",\"Mass Death\",\n",
    "\"Murder\",\"Execution\",\"Burned at the Stake\",\n",
    "\"Hangings (Not by suicide)\",\"Decapitation\",\"Suffocation\",\n",
    "\"Burning People\",\"Extreme Violence\",\"Gore\",\n",
    "\"Torture\",\"Mutilation\",\"Self-Mutilation\",\n",
    "\"Mutilation of Corpses\",\"Cutting of Limbs\",\"Forced Blood Draining\",\n",
    "\"Threatening baby/child\",\"Violence against Children\",\"child Abuse\",\n",
    "\"Physical Abuse\",\"Domestic Abuse\",\"Animal Cruelty\",\n",
    "\"Escalating Violence\",\"Described Blood\",\"Graphic Violence\",\n",
    "\"Doxxing\"]"
   ]
  },
  {
   "cell_type": "code",
   "execution_count": 123,
   "metadata": {},
   "outputs": [],
   "source": [
    "trigger_words= [word.lower() for word in trigger_words]"
   ]
  },
  {
   "cell_type": "code",
   "execution_count": 124,
   "metadata": {},
   "outputs": [],
   "source": [
    "example = \"\"\"Sexual assault is an act in which a person intentionally sexually touches another person without that person's consent, or coerces or physically forces a person to engage in a sexual act against their will. It is a form of sexual violence,\n",
    "which includes child sexual abuse, groping, rape (forced vaginal, anal, or oral penetration or a drug facilitated sexual assault), or the torture of the person in a sexual manner.\"\"\""
   ]
  },
  {
   "cell_type": "code",
   "execution_count": 125,
   "metadata": {},
   "outputs": [],
   "source": [
    "def find_trigger_rate(text):\n",
    "    text = text.lower()\n",
    "    words = re.findall(r'\\w+', text)\n",
    "    len_of_text = len(words)\n",
    "    containing_trigger_words=0\n",
    "    for tw in trigger_words:\n",
    "        if tw in text:\n",
    "            containing_trigger_words+=1\n",
    "    \n",
    "    return containing_trigger_words/len_of_text"
   ]
  },
  {
   "cell_type": "code",
   "execution_count": 126,
   "metadata": {},
   "outputs": [
    {
     "data": {
      "text/plain": [
       "\"Sexual assault is an act in which a person intentionally sexually touches another person without that person's consent, or coerces or physically forces a person to engage in a sexual act against their will. It is a form of sexual violence,\\nwhich includes child sexual abuse, groping, rape (forced vaginal, anal, or oral penetration or a drug facilitated sexual assault), or the torture of the person in a sexual manner.\""
      ]
     },
     "execution_count": 126,
     "metadata": {},
     "output_type": "execute_result"
    }
   ],
   "source": [
    "example"
   ]
  },
  {
   "cell_type": "code",
   "execution_count": 127,
   "metadata": {},
   "outputs": [
    {
     "data": {
      "text/plain": [
       "0.07042253521126761"
      ]
     },
     "execution_count": 127,
     "metadata": {},
     "output_type": "execute_result"
    }
   ],
   "source": [
    "find_trigger_rate(example)"
   ]
  },
  {
   "cell_type": "code",
   "execution_count": 130,
   "metadata": {},
   "outputs": [],
   "source": [
    "# If we want to add a treshold\n",
    "\n",
    "def treshold_check(text):\n",
    "    rate = find_trigger_rate(text)\n",
    "    print(rate)\n",
    "    if rate> 0.1:\n",
    "        print(\"Content should be blurry\")\n",
    "    else:\n",
    "        print(\"Content can be visited\")"
   ]
  },
  {
   "cell_type": "code",
   "execution_count": 131,
   "metadata": {},
   "outputs": [
    {
     "name": "stdout",
     "output_type": "stream",
     "text": [
      "0.07042253521126761\n",
      "Content can be visited\n"
     ]
    }
   ],
   "source": [
    "treshold_check(example)"
   ]
  },
  {
   "cell_type": "code",
   "execution_count": 136,
   "metadata": {},
   "outputs": [],
   "source": [
    "example2= \"\"\"Gay A gay man is one who is romantically, sexually and/or emotionally attracted to men. The word gay can be used to refer generally to lesbian, gay and bisexual people but many women prefer to be called lesbian. Most gay people don’t like to be referred to as homosexual because of the negative historical associations with the word and because the word gay better reflects their identity. \n",
    "Bisexual A bisexual person is someone who is romantically, sexually and/or emotionally attracted to people of genders both the same and different to their own.\n",
    "Transgender or Trans : Transgender an umbrella term used to describe people whose gender identity (internal feeling of being male, female or non-binary) and/or gender expression, differs from the gender they were assigned at birth. Not everyone whose appearance or behaviour is gender-atypical will identify as a transgender person.\n",
    "\"\"\""
   ]
  },
  {
   "cell_type": "code",
   "execution_count": 137,
   "metadata": {},
   "outputs": [
    {
     "data": {
      "text/plain": [
       "'Gay A gay man is one who is romantically, sexually and/or emotionally attracted to men. The word gay can be used to refer generally to lesbian, gay and bisexual people but many women prefer to be called lesbian. Most gay people don’t like to be referred to as homosexual because of the negative historical associations with the word and because the word gay better reflects their identity. \\nBisexual A bisexual person is someone who is romantically, sexually and/or emotionally attracted to people of genders both the same and different to their own.\\nTransgender or Trans : Transgender an umbrella term used to describe people whose gender identity (internal feeling of being male, female or non-binary) and/or gender expression, differs from the gender they were assigned at birth. Not everyone whose appearance or behaviour is gender-atypical will identify as a transgender person.\\n'"
      ]
     },
     "execution_count": 137,
     "metadata": {},
     "output_type": "execute_result"
    }
   ],
   "source": [
    "example2"
   ]
  },
  {
   "cell_type": "code",
   "execution_count": 138,
   "metadata": {},
   "outputs": [
    {
     "name": "stdout",
     "output_type": "stream",
     "text": [
      "0.00684931506849315\n",
      "Content can be visited\n"
     ]
    }
   ],
   "source": [
    "treshold_check(example2)"
   ]
  }
 ],
 "metadata": {
  "kernelspec": {
   "display_name": "Python 3",
   "language": "python",
   "name": "python3"
  },
  "language_info": {
   "codemirror_mode": {
    "name": "ipython",
    "version": 3
   },
   "file_extension": ".py",
   "mimetype": "text/x-python",
   "name": "python",
   "nbconvert_exporter": "python",
   "pygments_lexer": "ipython3",
   "version": "3.7.0"
  }
 },
 "nbformat": 4,
 "nbformat_minor": 2
}
